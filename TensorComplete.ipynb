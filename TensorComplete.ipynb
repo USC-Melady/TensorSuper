{
 "cells": [
  {
   "cell_type": "code",
   "execution_count": 19,
   "metadata": {
    "collapsed": false
   },
   "outputs": [],
   "source": [
    "\"\"\"\n",
    "ADMM solver for tensor completion with n-rank minimizatoin\n",
    "\"\"\"\n",
    "import numpy as np\n",
    "from math_utils import *\n",
    "\n",
    "def exact_update(Omega,X, Ws, Ys, params):\n",
    "    \"\"\"Exact update of the primal variable\"\"\"\n",
    "    num_modes = np.ndim(Omega)\n",
    "    beta_val = params['beta']\n",
    "    lambda_val  = params['lambda']\n",
    "    \n",
    "    W_Y_sum = np.sum(W_m + beta_val * Y_m for W_m in Ws for Y_m in Ys)\n",
    "    X_out = 1./(lambda_val +  num_modes * beta_val) * (W_Y_sum + lambda_val * X)   \n",
    "    X_out[Omega==0] = 1./(num_modes * beta_val)*W_Y_sum[Omega==0]\n",
    "    \n",
    "    return X_out\n",
    "\n",
    "\n",
    "def inexact_update(Omega, X, Ws, Ys):\n",
    "    pass\n",
    "    \n",
    "    \n",
    "def tc_loss(X_out, Omega, X, Ws,Ys, params):\n",
    "    \"\"\"loss function of tensor completion\"\"\"\n",
    "    num_modes = np.ndim(X)\n",
    "    loss = 0.0;\n",
    "    loss += params['lambda']*0.5 * np.square(tensor_norm(np.subtract(X_out[Omega==0],X[Omega==0]), 'fro'))\n",
    "    for mode in range(num_modes):\n",
    "        loss += np.linalg.norm(unfold(Ys[mode], mode),'nuc')\n",
    "        loss += np.sum(np.multiply(Ws[mode], Ys[mode] - X_out))\n",
    "        loss += params['beta'] *0.5* np.square(tensor_norm(np.subtract(Ys[mode],X_out),'fro'))\n",
    "    return loss\n",
    "                                             \n",
    "                                             \n",
    "def tensor_complete_ADMM(Omega, X, succ_thres,params):\n",
    "\n",
    "    num_modes = np.ndim(X)\n",
    "    beta_val =  params['beta']\n",
    "    lambda_val = params['lambda']\n",
    "    X_out = X\n",
    "    Ws = [np.zeros(X.shape)] * num_modes\n",
    "    Ys = [np.zeros(X.shape)] * num_modes\n",
    "    loss = np.zeros((max_iter,1))\n",
    "    loss_val = tc_loss(X_out, Omega, X, Ws,Ys, params)\n",
    "      \n",
    "    for k in range(params['max_iter']):\n",
    "#         params['lambda'] = params['lambda']*c_lambda\n",
    "#         params['beta'] = params['beta'] * c_beta\n",
    "        X_out_new  = exact_update(Omega, X, Ws, Ys, params)\n",
    "        loss_val_new = tc_loss(X_out_new, Omega, X, Ws,Ys, params)\n",
    "        if params['verbose']:\n",
    "            print'iter {}:{}'.format(k, loss_val_new)\n",
    "        if  abs(loss_val_new-loss_val) < params['stop_thres']:\n",
    "            break;\n",
    "        loss[k] = loss_val\n",
    "        X_out = X_out_new\n",
    "        loss_val = loss_val_new\n",
    "        for mode in range(num_modes):\n",
    "            X_W_mat = unfold(X_out,mode) - 1.0/beta_val * unfold(Ws[mode],mode)\n",
    "            Y_m = shrink(X_W_mat, 1.0/beta_val)\n",
    "            Ys[mode] = fold(Y_m, mode, X.shape)\n",
    "            Ws[mode] = Ws[mode] + beta_val * (Ys[mode]- X_out)\n",
    "       \n",
    "    return (X_out,loss)\n",
    "        "
   ]
  },
  {
   "cell_type": "code",
   "execution_count": null,
   "metadata": {
    "collapsed": true
   },
   "outputs": [],
   "source": [
    "def tensor_complete_ALS(Omega, X, succ_thres,params ):\n",
    "    pass"
   ]
  },
  {
   "cell_type": "code",
   "execution_count": 20,
   "metadata": {
    "collapsed": false
   },
   "outputs": [
    {
     "name": "stdout",
     "output_type": "stream",
     "text": [
      "error ratio: 1.18672899379\n"
     ]
    }
   ],
   "source": [
    "\"\"\"\n",
    "test routine  for TensorComplete\n",
    "\"\"\"\n",
    "import matplotlib.pyplot as plt\n",
    "%matplotlib inline\n",
    "var_shape = (4,5,6)\n",
    "Omega = np.random.rand(*var_shape)\n",
    "Omega = np.array(Omega < 0.9)\n",
    "X = np.random.rand(*var_shape)\n",
    "\n",
    "X_obv = X\n",
    "X_obv[Omega ==0] = 0\n",
    "succ_thres = np.float32(1e-3)\n",
    "beta_val = np.float32(1.0)\n",
    "lambda_val = np.float32(1.0)\n",
    "c_beta = np.float32(2)\n",
    "c_lambda = np.float32(2)\n",
    "VERBOSE = False\n",
    "max_iter = np.int32(1e3);\n",
    "stop_thres = np.float32(1e-4);\n",
    "params = {'beta':beta_val, 'lambda':lambda_val,'verbose':VERBOSE,\n",
    "          'max_iter':max_iter, 'stop_thres':stop_thres}\n",
    "X_out, loss= tensor_complete_ADMM(Omega, X_obv, succ_thres, params)\n",
    "print 'error ratio:', tensor_norm(np.subtract(X_out,X),'fro')/tensor_norm(X, 'fro')"
   ]
  },
  {
   "cell_type": "code",
   "execution_count": 21,
   "metadata": {
    "collapsed": false
   },
   "outputs": [
    {
     "data": {
      "text/plain": [
       "[<matplotlib.lines.Line2D at 0x7fc602015090>]"
      ]
     },
     "execution_count": 21,
     "metadata": {},
     "output_type": "execute_result"
    },
    {
     "data": {
      "image/png": "[encoded data removed]",
      "text/plain": [
       "<matplotlib.figure.Figure at 0x7fc602061810>"
      ]
     },
     "metadata": {},
     "output_type": "display_data"
    }
   ],
   "source": [
    "plt.plot(loss)"
   ]
  },
  {
   "cell_type": "code",
   "execution_count": null,
   "metadata": {
    "collapsed": false
   },
   "outputs": [],
   "source": [
    "print X\n",
    "print X_out"
   ]
  }
 ],
 "metadata": {
  "kernelspec": {
   "display_name": "Python 2",
   "language": "python",
   "name": "python2"
  },
  "language_info": {
   "codemirror_mode": {
    "name": "ipython",
    "version": 2
   },
   "file_extension": ".py",
   "mimetype": "text/x-python",
   "name": "python",
   "nbconvert_exporter": "python",
   "pygments_lexer": "ipython2",
   "version": "2.7.6"
  }
 },
 "nbformat": 4,
 "nbformat_minor": 1
}
