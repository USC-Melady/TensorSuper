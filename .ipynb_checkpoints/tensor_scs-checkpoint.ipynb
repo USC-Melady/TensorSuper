{
 "cells": [
  {
   "cell_type": "code",
   "execution_count": 1,
   "metadata": {
    "collapsed": true
   },
   "outputs": [],
   "source": [
    "\"\"\"\n",
    "tensor completion solver with split conic solver (SCS)\n",
    "\"\"\"\n",
    "import sys\n",
    "sys.path.append('/afs/cs.stanford.edu/u/yuqirose/cvxpy')\n"
   ]
  },
  {
   "cell_type": "code",
   "execution_count": null,
   "metadata": {
    "collapsed": true
   },
   "outputs": [],
   "source": [
    "\"\"\"\n",
    "reformulate tensor n-rank minimization as a SCS problem\n",
    "\"\"\"\n",
    "import scs\n",
    "data = {'A': A, 'b':b, 'c':c} # A,b,c is user supplied data\n",
    "cone = {}  #K* is the cone \n",
    "sol = scs(data, cone, [use_indirect=True, gpu=False, verbose=True, normalize=True, max_iters=2500, scale=5, eps=1e-3, cg_rate=2, alpha=1.8, rho_x=1e-3])\n",
    "\n"
   ]
  }
 ],
 "metadata": {
  "kernelspec": {
   "display_name": "Python 2",
   "language": "python",
   "name": "python2"
  },
  "language_info": {
   "codemirror_mode": {
    "name": "ipython",
    "version": 2
   },
   "file_extension": ".py",
   "mimetype": "text/x-python",
   "name": "python",
   "nbconvert_exporter": "python",
   "pygments_lexer": "ipython2",
   "version": "2.7.6"
  }
 },
 "nbformat": 4,
 "nbformat_minor": 1
}
