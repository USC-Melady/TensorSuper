{
 "cells": [
  {
   "cell_type": "code",
   "execution_count": 1,
   "metadata": {
    "collapsed": false
   },
   "outputs": [],
   "source": [
    "import sys\n",
    "sys.path.append('/afs/cs.stanford.edu/u/yuqirose/cvxpy')\n",
    "from cvxpy import *\n",
    "import numpy as np\n",
    "import math\n",
    "\n",
    "def unfold(X,n):\n",
    "    ''' mode-n unfolding of VariableTensor X\n",
    "    Args: \n",
    "        X: input tensor\n",
    "        n: targeted mode\n",
    "    Returns:\n",
    "        matricized version of X\n",
    "    '''\n",
    "    shape = X.shape\n",
    "    ndim = len(shape)\n",
    "    print ndim\n",
    "    perm_order = np.roll(np.arange(ndim),n-1)\n",
    "    X_n= np.reshape(np.transpose(X, perm_order), [shape[n-1],-1])\n",
    "    return X_n\n",
    "\n",
    "def norm_tensor(X, p=2):\n",
    "    '''\n",
    "    Wrapper function for tensor norm\n",
    "    '''\n",
    "    if p == 'nuc_upper':\n",
    "        # tensor nuclear norm upper bound [FRIEDLAND && Lim 2014]\n",
    "        expr_list = []\n",
    "        var_shape = X.size\n",
    "        var_ndim = len(var_shape)\n",
    "        for n in range(var_ndim):\n",
    "            X_n = unfold(X, var_shape, n)\n",
    "            mask = np.ones(var_ndim, dtype=bool)\n",
    "            mask[n] = False\n",
    "            shape_array = np.asarray(var_shape)\n",
    "            factor = math.sqrt(min(shape_array[mask]))\n",
    "            norm_X_n = norm(X_n,'nuc')\n",
    "            norm_X_n = norm_X_n * factor\n",
    "            expr_list = expr_list + [norm_X_n]\n",
    "        return min_elemwise(*expr_list)\n",
    "        \n",
    "    elif p == 'nuc_lower':\n",
    "        # tensor nuclear norm lower bound \n",
    "        expr_list = []\n",
    "        for n in range(var_ndim):\n",
    "            X_n = unfold(X, var_shape, n)\n",
    "            expr_list = expr_list + [norm_X_n]\n",
    "        return max_elemwise(*expr_list)"
   ]
  },
  {
   "cell_type": "code",
   "execution_count": 2,
   "metadata": {
    "collapsed": false
   },
   "outputs": [
    {
     "ename": "NotImplementedError",
     "evalue": "",
     "output_type": "error",
     "traceback": [
      "\u001b[1;31m---------------------------------------------------------------------------\u001b[0m",
      "\u001b[1;31mNotImplementedError\u001b[0m                       Traceback (most recent call last)",
      "\u001b[1;32m<ipython-input-2-2141d90d9ca0>\u001b[0m in \u001b[0;36m<module>\u001b[1;34m()\u001b[0m\n\u001b[0;32m     23\u001b[0m \u001b[0mprob\u001b[0m \u001b[1;33m=\u001b[0m \u001b[0mProblem\u001b[0m\u001b[1;33m(\u001b[0m\u001b[0mobj\u001b[0m\u001b[1;33m,\u001b[0m \u001b[0mconstraints\u001b[0m\u001b[1;33m)\u001b[0m\u001b[1;33m\u001b[0m\u001b[0m\n\u001b[0;32m     24\u001b[0m \u001b[1;31m# Use SCS to solve the problem.\u001b[0m\u001b[1;33m\u001b[0m\u001b[1;33m\u001b[0m\u001b[0m\n\u001b[1;32m---> 25\u001b[1;33m \u001b[0mprob\u001b[0m\u001b[1;33m.\u001b[0m\u001b[0msolve\u001b[0m\u001b[1;33m(\u001b[0m\u001b[0mverbose\u001b[0m\u001b[1;33m=\u001b[0m\u001b[0mTrue\u001b[0m\u001b[1;33m,\u001b[0m \u001b[0msolver\u001b[0m\u001b[1;33m=\u001b[0m\u001b[0mSCS\u001b[0m\u001b[1;33m)\u001b[0m\u001b[1;33m\u001b[0m\u001b[0m\n\u001b[0m\u001b[0;32m     26\u001b[0m \u001b[1;33m\u001b[0m\u001b[0m\n\u001b[0;32m     27\u001b[0m \u001b[0mmul_elemwise\u001b[0m\u001b[1;33m(\u001b[0m\u001b[0mOmega\u001b[0m\u001b[1;33m,\u001b[0m \u001b[0mX\u001b[0m\u001b[1;33m)\u001b[0m\u001b[1;33m\u001b[0m\u001b[0m\n",
      "\u001b[1;32m/afs/cs.stanford.edu/u/yuqirose/cvxpy/cvxpy/problems/problem.pyc\u001b[0m in \u001b[0;36msolve\u001b[1;34m(self, *args, **kwargs)\u001b[0m\n\u001b[0;32m    193\u001b[0m             \u001b[1;32mreturn\u001b[0m \u001b[0mfunc\u001b[0m\u001b[1;33m(\u001b[0m\u001b[0mself\u001b[0m\u001b[1;33m,\u001b[0m \u001b[1;33m*\u001b[0m\u001b[0margs\u001b[0m\u001b[1;33m,\u001b[0m \u001b[1;33m**\u001b[0m\u001b[0mkwargs\u001b[0m\u001b[1;33m)\u001b[0m\u001b[1;33m\u001b[0m\u001b[0m\n\u001b[0;32m    194\u001b[0m         \u001b[1;32melse\u001b[0m\u001b[1;33m:\u001b[0m\u001b[1;33m\u001b[0m\u001b[0m\n\u001b[1;32m--> 195\u001b[1;33m             \u001b[1;32mreturn\u001b[0m \u001b[0mself\u001b[0m\u001b[1;33m.\u001b[0m\u001b[0m_solve\u001b[0m\u001b[1;33m(\u001b[0m\u001b[1;33m*\u001b[0m\u001b[0margs\u001b[0m\u001b[1;33m,\u001b[0m \u001b[1;33m**\u001b[0m\u001b[0mkwargs\u001b[0m\u001b[1;33m)\u001b[0m\u001b[1;33m\u001b[0m\u001b[0m\n\u001b[0m\u001b[0;32m    196\u001b[0m \u001b[1;33m\u001b[0m\u001b[0m\n\u001b[0;32m    197\u001b[0m     \u001b[1;33m@\u001b[0m\u001b[0mclassmethod\u001b[0m\u001b[1;33m\u001b[0m\u001b[0m\n",
      "\u001b[1;32m/afs/cs.stanford.edu/u/yuqirose/cvxpy/cvxpy/problems/problem.pyc\u001b[0m in \u001b[0;36m_solve\u001b[1;34m(self, solver, ignore_dcp, warm_start, verbose, parallel, **kwargs)\u001b[0m\n\u001b[0;32m    319\u001b[0m             results_dict = solver.solve(objective, constraints,\n\u001b[0;32m    320\u001b[0m                                         \u001b[0mself\u001b[0m\u001b[1;33m.\u001b[0m\u001b[0m_cached_data\u001b[0m\u001b[1;33m,\u001b[0m \u001b[0mwarm_start\u001b[0m\u001b[1;33m,\u001b[0m \u001b[0mverbose\u001b[0m\u001b[1;33m,\u001b[0m\u001b[1;33m\u001b[0m\u001b[0m\n\u001b[1;32m--> 321\u001b[1;33m                                         kwargs)\n\u001b[0m\u001b[0;32m    322\u001b[0m         \u001b[1;31m# Presolve determined problem was unbounded or infeasible.\u001b[0m\u001b[1;33m\u001b[0m\u001b[1;33m\u001b[0m\u001b[0m\n\u001b[0;32m    323\u001b[0m         \u001b[1;32melse\u001b[0m\u001b[1;33m:\u001b[0m\u001b[1;33m\u001b[0m\u001b[0m\n",
      "\u001b[1;32m/afs/cs.stanford.edu/u/yuqirose/cvxpy/cvxpy/problems/solvers/scs_intf.pyc\u001b[0m in \u001b[0;36msolve\u001b[1;34m(self, objective, constraints, cached_data, warm_start, verbose, solver_opts)\u001b[0m\n\u001b[0;32m     97\u001b[0m         data = self.get_problem_data(objective,\n\u001b[0;32m     98\u001b[0m                                      \u001b[0mconstraints\u001b[0m\u001b[1;33m,\u001b[0m\u001b[1;33m\u001b[0m\u001b[0m\n\u001b[1;32m---> 99\u001b[1;33m                                      cached_data)\n\u001b[0m\u001b[0;32m    100\u001b[0m         \u001b[1;31m# Set the options to be VERBOSE plus any user-specific options.\u001b[0m\u001b[1;33m\u001b[0m\u001b[1;33m\u001b[0m\u001b[0m\n\u001b[0;32m    101\u001b[0m         \u001b[0msolver_opts\u001b[0m\u001b[1;33m[\u001b[0m\u001b[1;34m\"verbose\"\u001b[0m\u001b[1;33m]\u001b[0m \u001b[1;33m=\u001b[0m \u001b[0mverbose\u001b[0m\u001b[1;33m\u001b[0m\u001b[0m\n",
      "\u001b[1;32m/afs/cs.stanford.edu/u/yuqirose/cvxpy/cvxpy/problems/solvers/solver.pyc\u001b[0m in \u001b[0;36mget_problem_data\u001b[1;34m(self, objective, constraints, cached_data)\u001b[0m\n\u001b[0;32m    229\u001b[0m         \u001b[0msym_data\u001b[0m \u001b[1;33m=\u001b[0m \u001b[0mself\u001b[0m\u001b[1;33m.\u001b[0m\u001b[0mget_sym_data\u001b[0m\u001b[1;33m(\u001b[0m\u001b[0mobjective\u001b[0m\u001b[1;33m,\u001b[0m \u001b[0mconstraints\u001b[0m\u001b[1;33m,\u001b[0m \u001b[0mcached_data\u001b[0m\u001b[1;33m)\u001b[0m\u001b[1;33m\u001b[0m\u001b[0m\n\u001b[0;32m    230\u001b[0m         matrix_data = self.get_matrix_data(objective, constraints,\n\u001b[1;32m--> 231\u001b[1;33m                                            cached_data)\n\u001b[0m\u001b[0;32m    232\u001b[0m         \u001b[0mdata\u001b[0m \u001b[1;33m=\u001b[0m \u001b[1;33m{\u001b[0m\u001b[1;33m}\u001b[0m\u001b[1;33m\u001b[0m\u001b[0m\n\u001b[0;32m    233\u001b[0m         \u001b[0mdata\u001b[0m\u001b[1;33m[\u001b[0m\u001b[0ms\u001b[0m\u001b[1;33m.\u001b[0m\u001b[0mC\u001b[0m\u001b[1;33m]\u001b[0m\u001b[1;33m,\u001b[0m \u001b[0mdata\u001b[0m\u001b[1;33m[\u001b[0m\u001b[0ms\u001b[0m\u001b[1;33m.\u001b[0m\u001b[0mOFFSET\u001b[0m\u001b[1;33m]\u001b[0m \u001b[1;33m=\u001b[0m \u001b[0mmatrix_data\u001b[0m\u001b[1;33m.\u001b[0m\u001b[0mget_objective\u001b[0m\u001b[1;33m(\u001b[0m\u001b[1;33m)\u001b[0m\u001b[1;33m\u001b[0m\u001b[0m\n",
      "\u001b[1;32m/afs/cs.stanford.edu/u/yuqirose/cvxpy/cvxpy/problems/solvers/solver.pyc\u001b[0m in \u001b[0;36mget_matrix_data\u001b[1;34m(self, objective, constraints, cached_data)\u001b[0m\n\u001b[0;32m    207\u001b[0m                                                \u001b[0mself\u001b[0m\u001b[1;33m.\u001b[0m\u001b[0mvec_intf\u001b[0m\u001b[1;33m(\u001b[0m\u001b[1;33m)\u001b[0m\u001b[1;33m,\u001b[0m\u001b[1;33m\u001b[0m\u001b[0m\n\u001b[0;32m    208\u001b[0m                                                \u001b[0mself\u001b[0m\u001b[1;33m,\u001b[0m\u001b[1;33m\u001b[0m\u001b[0m\n\u001b[1;32m--> 209\u001b[1;33m                                                self.nonlin_constr())\n\u001b[0m\u001b[0;32m    210\u001b[0m         \u001b[1;32mreturn\u001b[0m \u001b[0mprob_data\u001b[0m\u001b[1;33m.\u001b[0m\u001b[0mmatrix_data\u001b[0m\u001b[1;33m\u001b[0m\u001b[0m\n\u001b[0;32m    211\u001b[0m \u001b[1;33m\u001b[0m\u001b[0m\n",
      "\u001b[1;32m/afs/cs.stanford.edu/u/yuqirose/cvxpy/cvxpy/problems/problem_data/matrix_data.pyc\u001b[0m in \u001b[0;36m__init__\u001b[1;34m(self, sym_data, matrix_intf, vec_intf, solver, nonlin)\u001b[0m\n\u001b[0;32m     87\u001b[0m         self.eq_cache = self._init_matrix_cache(eq_constr,\n\u001b[0;32m     88\u001b[0m                                                 self.sym_data.x_length)\n\u001b[1;32m---> 89\u001b[1;33m         \u001b[0mself\u001b[0m\u001b[1;33m.\u001b[0m\u001b[0m_lin_matrix\u001b[0m\u001b[1;33m(\u001b[0m\u001b[0mself\u001b[0m\u001b[1;33m.\u001b[0m\u001b[0meq_cache\u001b[0m\u001b[1;33m,\u001b[0m \u001b[0mcaching\u001b[0m\u001b[1;33m=\u001b[0m\u001b[0mTrue\u001b[0m\u001b[1;33m)\u001b[0m\u001b[1;33m\u001b[0m\u001b[0m\n\u001b[0m\u001b[0;32m     90\u001b[0m         \u001b[1;31m# Inequality constraints.\u001b[0m\u001b[1;33m\u001b[0m\u001b[1;33m\u001b[0m\u001b[0m\n\u001b[0;32m     91\u001b[0m         self.ineq_cache = self._init_matrix_cache(ineq_constr,\n",
      "\u001b[1;32m/afs/cs.stanford.edu/u/yuqirose/cvxpy/cvxpy/problems/problem_data/matrix_data.pyc\u001b[0m in \u001b[0;36m_lin_matrix\u001b[1;34m(self, mat_cache, caching)\u001b[0m\n\u001b[0;32m    182\u001b[0m                 \u001b[0mactive_constr\u001b[0m\u001b[1;33m,\u001b[0m\u001b[1;33m\u001b[0m\u001b[0m\n\u001b[0;32m    183\u001b[0m                 \u001b[0mself\u001b[0m\u001b[1;33m.\u001b[0m\u001b[0msym_data\u001b[0m\u001b[1;33m.\u001b[0m\u001b[0mvar_offsets\u001b[0m\u001b[1;33m,\u001b[0m\u001b[1;33m\u001b[0m\u001b[0m\n\u001b[1;32m--> 184\u001b[1;33m                 \u001b[0mconstr_offsets\u001b[0m\u001b[1;33m\u001b[0m\u001b[0m\n\u001b[0m\u001b[0;32m    185\u001b[0m             )\n\u001b[0;32m    186\u001b[0m             \u001b[1;31m# Convert the constant offset to the correct data type.\u001b[0m\u001b[1;33m\u001b[0m\u001b[1;33m\u001b[0m\u001b[0m\n",
      "\u001b[1;32m/afs/cs.stanford.edu/u/yuqirose/.local/lib/python2.7/site-packages/canonInterface.pyc\u001b[0m in \u001b[0;36mget_problem_matrix\u001b[1;34m(constrs, id_to_col, constr_offsets)\u001b[0m\n\u001b[0;32m     50\u001b[0m     \u001b[0mtmp\u001b[0m \u001b[1;33m=\u001b[0m \u001b[1;33m[\u001b[0m\u001b[1;33m]\u001b[0m\u001b[1;33m\u001b[0m\u001b[0m\n\u001b[0;32m     51\u001b[0m     \u001b[1;32mfor\u001b[0m \u001b[0mlin\u001b[0m \u001b[1;32min\u001b[0m \u001b[0mlinOps\u001b[0m\u001b[1;33m:\u001b[0m\u001b[1;33m\u001b[0m\u001b[0m\n\u001b[1;32m---> 52\u001b[1;33m         \u001b[0mtree\u001b[0m \u001b[1;33m=\u001b[0m \u001b[0mbuild_lin_op_tree\u001b[0m\u001b[1;33m(\u001b[0m\u001b[0mlin\u001b[0m\u001b[1;33m,\u001b[0m \u001b[0mtmp\u001b[0m\u001b[1;33m)\u001b[0m\u001b[1;33m\u001b[0m\u001b[0m\n\u001b[0m\u001b[0;32m     53\u001b[0m         \u001b[0mtmp\u001b[0m\u001b[1;33m.\u001b[0m\u001b[0mappend\u001b[0m\u001b[1;33m(\u001b[0m\u001b[0mtree\u001b[0m\u001b[1;33m)\u001b[0m\u001b[1;33m\u001b[0m\u001b[0m\n\u001b[0;32m     54\u001b[0m         \u001b[0mlin_vec\u001b[0m\u001b[1;33m.\u001b[0m\u001b[0mpush_back\u001b[0m\u001b[1;33m(\u001b[0m\u001b[0mtree\u001b[0m\u001b[1;33m)\u001b[0m\u001b[1;33m\u001b[0m\u001b[0m\n",
      "\u001b[1;32m/afs/cs.stanford.edu/u/yuqirose/.local/lib/python2.7/site-packages/canonInterface.pyc\u001b[0m in \u001b[0;36mbuild_lin_op_tree\u001b[1;34m(root_linPy, tmp)\u001b[0m\n\u001b[0;32m    217\u001b[0m \u001b[1;33m\u001b[0m\u001b[0m\n\u001b[0;32m    218\u001b[0m         \u001b[1;31m# Setting the type of our lin op\u001b[0m\u001b[1;33m\u001b[0m\u001b[1;33m\u001b[0m\u001b[0m\n\u001b[1;32m--> 219\u001b[1;33m         \u001b[0mlinC\u001b[0m\u001b[1;33m.\u001b[0m\u001b[0mtype\u001b[0m \u001b[1;33m=\u001b[0m \u001b[0mget_type\u001b[0m\u001b[1;33m(\u001b[0m\u001b[0mlinPy\u001b[0m\u001b[1;33m.\u001b[0m\u001b[0mtype\u001b[0m\u001b[1;33m.\u001b[0m\u001b[0mupper\u001b[0m\u001b[1;33m(\u001b[0m\u001b[1;33m)\u001b[0m\u001b[1;33m)\u001b[0m\u001b[1;33m\u001b[0m\u001b[0m\n\u001b[0m\u001b[0;32m    220\u001b[0m \u001b[1;33m\u001b[0m\u001b[0m\n\u001b[0;32m    221\u001b[0m         \u001b[1;31m# Setting size\u001b[0m\u001b[1;33m\u001b[0m\u001b[1;33m\u001b[0m\u001b[0m\n",
      "\u001b[1;32m/afs/cs.stanford.edu/u/yuqirose/.local/lib/python2.7/site-packages/canonInterface.pyc\u001b[0m in \u001b[0;36mget_type\u001b[1;34m(ty)\u001b[0m\n\u001b[0;32m    186\u001b[0m         \u001b[1;32mreturn\u001b[0m \u001b[0mtype_map\u001b[0m\u001b[1;33m[\u001b[0m\u001b[0mty\u001b[0m\u001b[1;33m]\u001b[0m\u001b[1;33m\u001b[0m\u001b[0m\n\u001b[0;32m    187\u001b[0m     \u001b[1;32melse\u001b[0m\u001b[1;33m:\u001b[0m\u001b[1;33m\u001b[0m\u001b[0m\n\u001b[1;32m--> 188\u001b[1;33m         \u001b[1;32mraise\u001b[0m \u001b[0mNotImplementedError\u001b[0m\u001b[1;33m(\u001b[0m\u001b[1;33m)\u001b[0m\u001b[1;33m\u001b[0m\u001b[0m\n\u001b[0m\u001b[0;32m    189\u001b[0m \u001b[1;33m\u001b[0m\u001b[0m\n\u001b[0;32m    190\u001b[0m \u001b[1;33m\u001b[0m\u001b[0m\n",
      "\u001b[1;31mNotImplementedError\u001b[0m: "
     ]
    }
   ],
   "source": [
    "\n",
    "import os\n",
    "import numpy as np\n",
    "\n",
    "\n",
    "var_shape = (2,3,4)\n",
    "mode = 1\n",
    "X = np.random.random(var_shape)\n",
    "Omega = np.ones(var_shape)    \n",
    "\n",
    "\n",
    "import sys\n",
    "sys.path.append('/afs/cs.stanford.edu/u/yuqirose/cvxpy')\n",
    "from cvxpy import *\n",
    "\n",
    "X_opt = VariableTensor(var_shape)\n",
    "# Omega_n = unfold(Omega, var_shape, mode)\n",
    "X_opt_n = unfold(X_opt, var_shape, mode)\n",
    "\n",
    "\n",
    "obj = Minimize(norm(X_opt_n))\n",
    "constraints = [mul_elemwise(Omega, X_opt) == mul_elemwise(Omega, X)]\n",
    "prob = Problem(obj, constraints)\n",
    "# Use SCS to solve the problem.\n",
    "prob.solve(verbose=True, solver=SCS)\n",
    "\n",
    "mul_elemwise(Omega, X)\n"
   ]
  },
  {
   "cell_type": "code",
   "execution_count": null,
   "metadata": {
    "collapsed": false
   },
   "outputs": [],
   "source": [
    "import sys\n",
    "sys.path.append('/afs/cs.stanford.edu/u/yuqirose/cvxpy')\n",
    "from cvxpy import *\n",
    "import numpy as np\n",
    "n1 = 20;\n",
    "n2 = 30;\n",
    "n3 = 10;\n",
    "X = np.random.random((n1,n2,n3))\n",
    "X_opt = VariableTensor((n1, n2, n3))\n",
    "Omega = np.random.choice([0,1], (n1,n2,n3), p = [0.8,0.2])\n",
    "\n",
    "obj = Minimize(norm_tensor(X_opt, 'nuc_upper'))\n",
    "constraints = [mul_elemwise(Omega, X_opt) == mul_elemwise(Omega, X)]\n",
    "prob = Problem(obj, constraints)\n",
    "# Use SCS to solve the problem.\n",
    "prob.solve(verbose=True, solver=SCS)"
   ]
  },
  {
   "cell_type": "code",
   "execution_count": null,
   "metadata": {
    "collapsed": false
   },
   "outputs": [],
   "source": [
    "shape = (2,2,2)\n",
    "A = np.random.random(shape)\n",
    "A_out = (A).flatten()\n",
    "print np.shape(A_out)"
   ]
  }
 ],
 "metadata": {
  "kernelspec": {
   "display_name": "Python 2",
   "language": "python",
   "name": "python2"
  },
  "language_info": {
   "codemirror_mode": {
    "name": "ipython",
    "version": 2
   },
   "file_extension": ".py",
   "mimetype": "text/x-python",
   "name": "python",
   "nbconvert_exporter": "python",
   "pygments_lexer": "ipython2",
   "version": "2.7.6"
  }
 },
 "nbformat": 4,
 "nbformat_minor": 1
}
