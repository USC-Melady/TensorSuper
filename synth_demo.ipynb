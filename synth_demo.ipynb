{
 "cells": [
  {
   "cell_type": "code",
   "execution_count": 13,
   "metadata": {
    "collapsed": false
   },
   "outputs": [],
   "source": [
    "from math_utils import *\n",
    "import numpy as np\n",
    "from scipy import linalg\n",
    "from sktensor import ktensor"
   ]
  },
  {
   "cell_type": "code",
   "execution_count": 19,
   "metadata": {
    "collapsed": false
   },
   "outputs": [],
   "source": [
    "def gen_tensor(N,R):\n",
    "    # all orthogonal cases\n",
    "    U = np.random.random((N, R))\n",
    "    U_orth = linalg.orth(U)\n",
    "\n",
    "    V = np.random.random((N, R))\n",
    "    V_orth = linalg.orth(V)\n",
    "\n",
    "    W = np.random.random((N, R))\n",
    "    W_orth = linalg.orth(W)\n",
    "\n",
    "    Lambda = np.random.random((R,))\n",
    "\n",
    "    X = ktensor([U_orth, V_orth, W_orth], lmbda=Lambda)\n",
    "    X_ten = X.totensor()\n",
    "\n",
    "    return X_ten"
   ]
  },
  {
   "cell_type": "code",
   "execution_count": 43,
   "metadata": {
    "collapsed": true
   },
   "outputs": [],
   "source": [
    "def gen_matrix(N,R):\n",
    "    # all orthogonal cases\n",
    "    U = np.random.random((N, R))\n",
    "    U_orth = linalg.orth(U)\n",
    "\n",
    "    V = np.random.random((N, R))\n",
    "    V_orth = linalg.orth(V)\n",
    "\n",
    "    Lambda = np.random.random((R,))\n",
    "\n",
    "\n",
    "    X_mat = np.dot(np.dot(U_orth, np.diag(Lambda)),V_orth.T)\n",
    "\n",
    "    return X_mat"
   ]
  },
  {
   "cell_type": "code",
   "execution_count": 55,
   "metadata": {
    "collapsed": false
   },
   "outputs": [],
   "source": [
    "def gen_mask(shape,obv_ratio):\n",
    "    '''\n",
    "    Return a mask matrix, 1 for observed, 0 for missing. \n",
    "    Args:\n",
    "        obv_ratio: (0,1) observation ratio\n",
    "        N: size of the mask\n",
    "    '''\n",
    "    obv_idx = np.random.choice([0, 1], size=shape, p=[1.0-obv_ratio, obv_ratio])\n",
    "    Omega = np.reshape(obv_idx, shape)\n",
    "    return Omega "
   ]
  },
  {
   "cell_type": "code",
   "execution_count": 51,
   "metadata": {
    "collapsed": false
   },
   "outputs": [],
   "source": [
    "from cvxpy import *\n",
    "from numpy import linalg as LA\n",
    "def matrix_recovery(Omega,X, succ_thres):\n",
    "    '''\n",
    "    Return whether a matrix is recovered given a threshold\n",
    "    Args:\n",
    "        Omega: observed entires, true indicate observed\n",
    "        X: ground truth \n",
    "        succ_thres: \n",
    "    Returns:\n",
    "        recover decision under succ_thres\n",
    "    '''\n",
    "    n_rows, n_cols = X.shape\n",
    "    X_opt = Variable(n_rows, n_cols)\n",
    "     \n",
    "    obj = Minimize(norm(X_opt, \"nuc\"))\n",
    "    constraints = [mul_elemwise(Omega, X_opt) == mul_elemwise(Omega, X)]\n",
    "    prob = Problem(obj, constraints)\n",
    "    # Use SCS to solve the problem.\n",
    "    prob.solve(verbose=True, solver=SCS) \n",
    "    err = LA.norm(X_opt.value-X, 'fro')/LA.norm(X, 'fro')\n",
    "    print 'recovery err:', err\n",
    "    if  err < succ_thres:\n",
    "        return True\n",
    "    else:\n",
    "        return False"
   ]
  },
  {
   "cell_type": "code",
   "execution_count": 9,
   "metadata": {
    "collapsed": true
   },
   "outputs": [],
   "source": [
    "def tensor_recovery(Omega,X, succ_thres):\n",
    "    '''\n",
    "    Return whether an (orthogonal) tensor is recovered given a threshold\n",
    "    Args:\n",
    "        Omega: observed entires, true indicate observed\n",
    "        X: ground truth \n",
    "        succ_thres: \n",
    "    Returns:\n",
    "        recover decision under succ_thres\n",
    "    '''\n",
    "    n_rows, n_cols = X.shape\n",
    "    X_opt = Variable(n_rows, n_cols)\n",
    "     \n",
    "        \n",
    "    obj = Minimize(norm(X_opt, \"nuc\")) # tensor norm as algebraic mean of matrix norm\n",
    "    constraints = [mul_elemwise(Omega, X_opt) == mul_elemwise(Omega, X)]\n",
    "    prob = Problem(obj, constraints)\n",
    "    # Use SCS to solve the problem.\n",
    "    prob.solve(verbose=True, solver=SCS) \n",
    "    err = LA.norm(X_opt.value-X, 'fro')/LA.norm(X, 'fro')\n",
    "    print 'recovery err:', err\n",
    "    if  err < succ_thres:\n",
    "        return True\n",
    "    else:\n",
    "        return False"
   ]
  },
  {
   "cell_type": "code",
   "execution_count": null,
   "metadata": {
    "collapsed": true
   },
   "outputs": [],
   "source": [
    "n_exps = 50;\n",
    "n_rows = 20;\n",
    "n_cols = 20;\n",
    "\n",
    "R = 5; # rank\n",
    "N = 20; # size\n",
    "\n",
    "obv_ratio = 0.8;\n",
    "succ_thres = 1e-3;\n",
    "\n",
    "mat_recv_prob = np.zeros((n_rows, n_cols))\n",
    "#for rank_ratio in linspace(0,1,n_rows):\n",
    "X_mat = gen_matrix (N,R)\n",
    "#    for obv_ratio in linspace(0,1,n_cols):\n",
    "\n",
    "paralle n_exps:\n",
    "Omega = gen_mask((N,N),obv_ratio)\n",
    "if matrix_recovery(Omega, X, num_exp,succ_thres):\n",
    "    \n",
    "        #rec_prob_mat = tensor_recovery(Omega, X,num_exp,succ_thres)\n",
    "        \n",
    "    "
   ]
  }
 ],
 "metadata": {
  "kernelspec": {
   "display_name": "Python 2",
   "language": "python",
   "name": "python2"
  },
  "language_info": {
   "codemirror_mode": {
    "name": "ipython",
    "version": 2
   },
   "file_extension": ".py",
   "mimetype": "text/x-python",
   "name": "python",
   "nbconvert_exporter": "python",
   "pygments_lexer": "ipython2",
   "version": "2.7.6"
  }
 },
 "nbformat": 4,
 "nbformat_minor": 1
}
