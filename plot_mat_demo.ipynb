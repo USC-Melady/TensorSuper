{
 "cells": [
  {
   "cell_type": "code",
   "execution_count": 42,
   "metadata": {
    "collapsed": false
   },
   "outputs": [
    {
     "name": "stdout",
     "output_type": "stream",
     "text": [
      "['0.0', '0.2', '0.5', '0.8', '1.0']\n",
      "['1.0', '0.8', '0.6', '0.3', '0.1']\n"
     ]
    },
    {
     "data": {
      "image/png": "[encoded data removed]",
      "text/plain": [
       "<matplotlib.figure.Figure at 0x7fd02d3aaf90>"
      ]
     },
     "metadata": {},
     "output_type": "display_data"
    }
   ],
   "source": [
    "import numpy as np\n",
    "import cPickle as pickle\n",
    "import matplotlib.pyplot as plt\n",
    "%matplotlib inline \n",
    "\n",
    "rslt = pickle.load( open( \"result/mat_recv_sim.pkl\", \"rb\" ) )\n",
    "\n",
    "cm = rslt['values']\n",
    "xticks = rslt['xticks']\n",
    "xticks = [\"%.1f\" % x for x in xticks]\n",
    "print xticks\n",
    "yticks = rslt['yticks']\n",
    "yticks = [\"%.1f\" % x for x in yticks]\n",
    "yticks.reverse()\n",
    "print yticks\n",
    "\n",
    "\n",
    "title = \"matrix recovery success probability\"\n",
    "labels = True\n",
    "\n",
    "fig = plt.figure()\n",
    "ax = fig.add_subplot(111)\n",
    "cax = ax.matshow(cm, cmap=plt.cm.gray)\n",
    "plt.title(title)\n",
    "fig.colorbar(cax)\n",
    "if labels:\n",
    "    ax.set_xticklabels([''] + xticks)\n",
    "    ax.set_yticklabels([''] + yticks)\n",
    "plt.xlabel('observation ratio '+u'm/n\\u2082')\n",
    "plt.ylabel('degree of freedom '+u'd\\u0072/m')\n",
    "plt.show()"
   ]
  },
  {
   "cell_type": "code",
   "execution_count": null,
   "metadata": {
    "collapsed": true
   },
   "outputs": [],
   "source": [
    "%matplotlib inline\n",
    "import matplotlib.pyplot as plt\n",
    "import numpy as np\n",
    "\n",
    "\n",
    "def samplemat(dims):\n",
    "    \"\"\"Make a matrix with all zeros and increasing elements on the diagonal\"\"\"\n",
    "    aa = np.zeros(dims)\n",
    "    for i in range(min(dims)):\n",
    "        aa[i, i] = i\n",
    "    return aa\n",
    "\n",
    "# Display 2 matrices of different sizes\n",
    "dimlist = [(12, 12), (15, 35)]\n",
    "for d in dimlist:\n",
    "    plt.matshow(samplemat(d))\n",
    "\n",
    "# Display a random matrix with a specified figure number and a grayscale\n",
    "# colormap\n",
    "plt.matshow(np.random.rand(64, 64), fignum=100, cmap=plt.cm.gray)\n",
    "\n",
    "plt.show()"
   ]
  }
 ],
 "metadata": {
  "kernelspec": {
   "display_name": "Python 2",
   "language": "python",
   "name": "python2"
  },
  "language_info": {
   "codemirror_mode": {
    "name": "ipython",
    "version": 2
   },
   "file_extension": ".py",
   "mimetype": "text/x-python",
   "name": "python",
   "nbconvert_exporter": "python",
   "pygments_lexer": "ipython2",
   "version": "2.7.6"
  }
 },
 "nbformat": 4,
 "nbformat_minor": 1
}
