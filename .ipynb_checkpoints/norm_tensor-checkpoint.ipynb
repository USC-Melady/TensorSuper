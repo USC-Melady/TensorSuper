{
 "cells": [
  {
   "cell_type": "code",
   "execution_count": 1,
   "metadata": {
    "collapsed": false
   },
   "outputs": [
    {
     "ename": "NameError",
     "evalue": "name 'X' is not defined",
     "output_type": "error",
     "traceback": [
      "\u001b[1;31m---------------------------------------------------------------------------\u001b[0m",
      "\u001b[1;31mNameError\u001b[0m                                 Traceback (most recent call last)",
      "\u001b[1;32m<ipython-input-1-6bfed5fdd8ae>\u001b[0m in \u001b[0;36m<module>\u001b[1;34m()\u001b[0m\n\u001b[0;32m     48\u001b[0m         \u001b[1;32mreturn\u001b[0m \u001b[0mmax_elemwise\u001b[0m\u001b[1;33m(\u001b[0m\u001b[1;33m*\u001b[0m\u001b[0mexpr_list\u001b[0m\u001b[1;33m)\u001b[0m\u001b[1;33m\u001b[0m\u001b[0m\n\u001b[0;32m     49\u001b[0m \u001b[1;33m\u001b[0m\u001b[0m\n\u001b[1;32m---> 50\u001b[1;33m \u001b[0mX_n\u001b[0m \u001b[1;33m=\u001b[0m \u001b[0munfold\u001b[0m\u001b[1;33m(\u001b[0m\u001b[0mX\u001b[0m\u001b[1;33m,\u001b[0m \u001b[0mmode\u001b[0m\u001b[1;33m)\u001b[0m\u001b[1;33m\u001b[0m\u001b[0m\n\u001b[0m",
      "\u001b[1;31mNameError\u001b[0m: name 'X' is not defined"
     ]
    }
   ],
   "source": [
    "import sys\n",
    "sys.path.append('/afs/cs.stanford.edu/u/yuqirose/cvxpy')\n",
    "from cvxpy import *\n",
    "import numpy as np\n",
    "import math\n",
    "\n",
    "def unfold(X,n):\n",
    "    ''' mode-n unfolding of VariableTensor X\n",
    "    Args: \n",
    "        X: input tensor\n",
    "        n: targeted mode\n",
    "    Returns:\n",
    "        matricized version of X\n",
    "    '''\n",
    "    shape = X.shape\n",
    "    ndim = len(shape)\n",
    "    print ndim\n",
    "    perm_order = np.roll(np.arange(ndim),n-1)\n",
    "    X_n= np.reshape(np.transpose(X, perm_order), [shape[n-1],-1])\n",
    "    return X_n\n",
    "\n",
    "def norm_tensor(X, p=2):\n",
    "    '''\n",
    "    Wrapper function for tensor norm\n",
    "    '''\n",
    "    if p == 'nuc_upper':\n",
    "        # tensor nuclear norm upper bound [FRIEDLAND && Lim 2014]\n",
    "        expr_list = []\n",
    "        var_shape = X.size\n",
    "        var_ndim = len(var_shape)\n",
    "        for n in range(var_ndim):\n",
    "            X_n = unfold(X, var_shape, n)\n",
    "            mask = np.ones(var_ndim, dtype=bool)\n",
    "            mask[n] = False\n",
    "            shape_array = np.asarray(var_shape)\n",
    "            factor = math.sqrt(min(shape_array[mask]))\n",
    "            norm_X_n = norm(X_n,'nuc')\n",
    "            norm_X_n = norm_X_n * factor\n",
    "            expr_list = expr_list + [norm_X_n]\n",
    "        return min_elemwise(*expr_list)\n",
    "        \n",
    "    elif p == 'nuc_lower':\n",
    "        # tensor nuclear norm lower bound \n",
    "        expr_list = []\n",
    "        for n in range(var_ndim):\n",
    "            X_n = unfold(X, var_shape, n)\n",
    "            expr_list = expr_list + [norm_X_n]\n",
    "        return max_elemwise(*expr_list)"
   ]
  },
  {
   "cell_type": "code",
   "execution_count": null,
   "metadata": {
    "collapsed": false
   },
   "outputs": [],
   "source": [
    "import abc\n",
    "import os\n",
    "import numpy as np\n",
    "\n",
    "\n",
    "var_shape = (2,3,4)\n",
    "mode = 1\n",
    "X = np.random.random(var_shape)\n",
    "Omega = np.ones(var_shape)    \n",
    "\n",
    "\n",
    "import sys\n",
    "sys.path.append('/afs/cs.stanford.edu/u/yuqirose/cvxpy')\n",
    "from cvxpy import *\n",
    "\n",
    "X_opt = VariableTensor(var_shape)\n",
    "# Omega_n = unfold(Omega, var_shape, mode)\n",
    "X_opt_n = unfold(X_opt, var_shape, mode)\n",
    "\n",
    "\n",
    "obj = Minimize(norm(X_opt_n))\n",
    "constraints = [mul_elemwise(Omega, X_opt) == mul_elemwise(Omega, X)]\n",
    "prob = Problem(obj, constraints)\n",
    "# Use SCS to solve the problem.\n",
    "prob.solve(verbose=True, solver=SCS)\n",
    "\n",
    "mul_elemwise(Omega, X)\n"
   ]
  },
  {
   "cell_type": "code",
   "execution_count": null,
   "metadata": {
    "collapsed": false
   },
   "outputs": [],
   "source": [
    "import sys\n",
    "sys.path.append('/afs/cs.stanford.edu/u/yuqirose/cvxpy')\n",
    "from cvxpy import *\n",
    "import numpy as np\n",
    "n1 = 20;\n",
    "n2 = 30;\n",
    "n3 = 10;\n",
    "X = np.random.random((n1,n2,n3))\n",
    "X_opt = VariableTensor((n1, n2, n3))\n",
    "Omega = np.random.choice([0,1], (n1,n2,n3), p = [0.8,0.2])\n",
    "\n",
    "obj = Minimize(norm_tensor(X_opt, 'nuc_upper'))\n",
    "constraints = [mul_elemwise(Omega, X_opt) == mul_elemwise(Omega, X)]\n",
    "prob = Problem(obj, constraints)\n",
    "# Use SCS to solve the problem.\n",
    "prob.solve(verbose=True, solver=SCS)"
   ]
  },
  {
   "cell_type": "code",
   "execution_count": null,
   "metadata": {
    "collapsed": false
   },
   "outputs": [],
   "source": [
    "shape = (2,2,2)\n",
    "A = np.random.random(shape)\n",
    "A_out = (A).flatten()\n",
    "print np.shape(A_out)"
   ]
  }
 ],
 "metadata": {
  "kernelspec": {
   "display_name": "Python 2",
   "language": "python",
   "name": "python2"
  },
  "language_info": {
   "codemirror_mode": {
    "name": "ipython",
    "version": 2
   },
   "file_extension": ".py",
   "mimetype": "text/x-python",
   "name": "python",
   "nbconvert_exporter": "python",
   "pygments_lexer": "ipython2",
   "version": "2.7.6"
  }
 },
 "nbformat": 4,
 "nbformat_minor": 1
}
