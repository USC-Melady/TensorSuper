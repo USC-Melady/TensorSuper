{
 "cells": [
  {
   "cell_type": "code",
   "execution_count": 10,
   "metadata": {
    "collapsed": false
   },
   "outputs": [],
   "source": [
    "\"\"\"\n",
    "tensor completion solver with split conic solver (SCS)\n",
    "\"\"\"\n",
    "from math_utils import *\n",
    "import numpy as np\n",
    "from scipy import linalg\n",
    "from sktensor import ktensor\n",
    "import matplotlib.pyplot as plt\n",
    "import cPickle as pickle\n",
    "import sys\n",
    "sys.path.append('/afs/cs.stanford.edu/u/yuqirose/cvxpy')\n",
    "import scs \n",
    "from sys import getrefcount\n",
    "from guppy import hpy\n",
    "from scipy import sparse"
   ]
  },
  {
   "cell_type": "code",
   "execution_count": 11,
   "metadata": {
    "collapsed": true
   },
   "outputs": [],
   "source": [
    "def gen_mask(shape,obv_ratio):\n",
    "    '''\n",
    "    Return a mask matrix, 1 for observed, 0 for missing. \n",
    "    Args:\n",
    "        obv_ratio: (0,1) observation ratio\n",
    "        N: size of the mask\n",
    "    '''\n",
    "    np.random.seed()\n",
    "    obv_idx = np.random.choice([0, 1], size=shape, p=[1.0-obv_ratio, obv_ratio])\n",
    "    Omega = np.reshape(obv_idx, shape)\n",
    "    return Omega "
   ]
  },
  {
   "cell_type": "code",
   "execution_count": 12,
   "metadata": {
    "collapsed": true
   },
   "outputs": [],
   "source": [
    "def gen_orth_tensor(N,R):\n",
    "    # all orthogonal cases\n",
    "    U = np.random.random((N, R))\n",
    "    U_orth = linalg.orth(U)\n",
    "\n",
    "    V = np.random.random((N, R))\n",
    "    V_orth = linalg.orth(V)\n",
    "\n",
    "    W = np.random.random((N, R))\n",
    "    W_orth = linalg.orth(W)\n",
    "\n",
    "    Lambda = np.random.random((R,))\n",
    "\n",
    "    X = ktensor([U_orth, V_orth, W_orth], lmbda=Lambda)\n",
    "    X_ten = np.asarray(X.totensor())\n",
    "\n",
    "    return X_ten"
   ]
  },
  {
   "cell_type": "code",
   "execution_count": 13,
   "metadata": {
    "collapsed": false
   },
   "outputs": [],
   "source": [
    "def eval_completion(X_pred, X_true, Omega):\n",
    "    \"\"\"Evaluate the predictio accuracy (elementwise) for the completed entries\"\"\"\n",
    "    Y_pred = X_pred[Omega==0] # return vectors\n",
    "    Y_true = X_true[Omega==0]\n",
    "    return linalg.norm(Y_pred - Y_true)/linalg.norm(Y_true)"
   ]
  },
  {
   "cell_type": "code",
   "execution_count": 14,
   "metadata": {
    "collapsed": false
   },
   "outputs": [],
   "source": [
    "# Solve each slices separately and average\n",
    "import sys\n",
    "from numpy import linalg as LA\n",
    "sys.path.append('/afs/cs.stanford.edu/u/yuqirose/cvxpy')\n",
    "from cvxpy import *\n",
    "from math_utils import *\n",
    "\n",
    "def matrix_recovery(Omega, X):\n",
    "    \"\"\"Solve the matrix recovery problem\"\"\"\n",
    "    ndim = np.ndim(X)\n",
    "    n_rows, n_cols = X.shape\n",
    "    X_opt = Variable(n_rows, n_cols)\n",
    "    obj = Minimize(norm(X_opt, \"nuc\"))\n",
    "    constraints = [mul_elemwise(Omega, X_opt) == mul_elemwise(Omega, X)]\n",
    "    prob = Problem(obj, constraints)\n",
    "    # Use SCS to solve the problem.\n",
    "    prob.solve(verbose=False, solver=SCS) \n",
    "    return np.asarray(X_opt.value)\n",
    "\n",
    "def tensor_recovery_unfold(Omega, X):\n",
    "    \"\"\" Average of the unfolded tensor recovery problem\"\"\"\n",
    "    ndim = np.ndim(X)\n",
    "    X_modes = [np.array(X.shape)]*3 # three sets of tensors\n",
    "\n",
    "    for mode in range(ndim):\n",
    "        Omega_ufd = unfold(np.copy(Omega), mode)\n",
    "        X_ufd = unfold(np.copy(X), mode)\n",
    "        X_mode = matrix_recovery(Omega_ufd, X_ufd)\n",
    "        X_modes[mode]= fold(X_mode, mode, X.shape)\n",
    "    X_out = np.mean(np.array(X_modes), axis = 0)#1./3* np.add(np.add(fold(X_out_1, 0, shape), fold(X_out_2, 1, shape) ), fold(X_out_3, 2,shape))\n",
    "    return X_out\n"
   ]
  },
  {
   "cell_type": "code",
   "execution_count": 15,
   "metadata": {
    "collapsed": false
   },
   "outputs": [],
   "source": [
    "import sys\n",
    "from numpy import linalg as LA\n",
    "sys.path.append('/afs/cs.stanford.edu/u/yuqirose/cvxpy')\n",
    "from cvxpy import *\n",
    "from math_utils import *\n",
    "\n",
    "\n",
    "def tensor_recovery(Omega,X):\n",
    "    \"\"\"formulate a SDP problem with tensor n-rank nuclear norm minimization problem\"\"\"\n",
    "    shape = X.shape\n",
    "    n_elems = np.prod(shape)\n",
    "    X_opt_1 = Variable(shape[0], n_elems / shape[0])\n",
    "    X_opt_2 = Variable(shape[1], n_elems / shape[1])\n",
    "    X_opt_3 = Variable(shape[2], n_elems / shape[2])\n",
    "\n",
    "    # mask   \n",
    "    Omega_1 = unfold(Omega,0)\n",
    "    Omega_2 = unfold(Omega,1)\n",
    "    Omega_3 = unfold(Omega,2)\n",
    "\n",
    "    # measurements\n",
    "    X_1 = unfold(X,0)\n",
    "    X_2 = unfold(X,1)\n",
    "    X_3 = unfold(X,2)\n",
    "\n",
    "    obj = Minimize(norm(X_opt_1, \"nuc\")+ norm(X_opt_2, \"nuc\") + norm(X_opt_3, \"nuc\") ) # tensor norm as algebraic mean of matrix norm\n",
    "    constraints = [mul_elemwise(Omega_1, X_opt_1) == mul_elemwise(Omega_1, X_1),\n",
    "                  mul_elemwise(Omega_2, X_opt_2) == mul_elemwise(Omega_2, X_2),\n",
    "                  mul_elemwise(Omega_3, X_opt_3) == mul_elemwise(Omega_3, X_3)]\n",
    "    #               vec(X_opt_1)== vec((vstack(X_opt_2[:,0:shape[0]],X_opt_2[:,shape[0]:2*shape[0]],\n",
    "    #                                          X_opt_2[:,2*shape[0]:3*shape[0]], X_opt_2[:,3*shape[0]:4*shape[0]])).T)] # vector format of the variables are the same\n",
    "\n",
    "    prob = Problem(obj, constraints)\n",
    "    # Use SCS to solve the problem.\n",
    "    prob.solve(verbose=False, solver=SCS) \n",
    "    X_out_1  = np.asarray(X_opt_1.value)\n",
    "    X_out_2 = np.asarray(X_opt_2.value)\n",
    "    X_out_3 = np.asarray(X_opt_3.value)\n",
    "\n",
    "    X_out = fold(X_out_1,0,shape)#1./3* np.add(np.add(fold(X_out_1, 0, shape), fold(X_out_2, 1, shape) ), fold(X_out_3, 2,shape))\n",
    "    return X_out"
   ]
  },
  {
   "cell_type": "code",
   "execution_count": 16,
   "metadata": {
    "collapsed": true
   },
   "outputs": [],
   "source": [
    "# Setting for the experiments   \n",
    "# n_rows = 1;\n",
    "# n_cols = 1;\n",
    "# num_exp = 5\n",
    "# N = 20; # size\n",
    "# max_rank = N\n",
    "\n",
    "# # obv_ratio = 0.8;\n",
    "# # succ_thres = 1e-3;\n",
    "# ten_recv_prob = np.zeros((n_rows, n_cols))\n",
    "\n",
    "# dgr_range = np.linspace(0.1, 1, n_rows)\n",
    "# obv_range = np.linspace(0,1,n_cols)   "
   ]
  },
  {
   "cell_type": "code",
   "execution_count": 17,
   "metadata": {
    "collapsed": false
   },
   "outputs": [],
   "source": [
    "# from joblib import Parallel, delayed\n",
    "# import multiprocessing\n",
    "\n",
    "# inputs = range(10) \n",
    "# def ten_rand_exp(X, obv_ratio, exp_id):\n",
    "#     succ_thres = 1.0e-3\n",
    "#     N = len(X)\n",
    "#     Omega = gen_mask((N,N,N),obv_ratio)\n",
    "#     X_obv = np.copy(Omega)\n",
    "    \n",
    "#     if tensor_recovery(Omega, X, succ_thres):\n",
    "#         return 1\n",
    "#     else:\n",
    "#         return 0\n",
    "   \n",
    "    \n",
    "# num_cores = multiprocessing.cpu_count()\n",
    "# \"\"\"degree of freedom funciton \"\"\"\n",
    "# dgr_func = lambda n, d: np.ceil(n -  np.sqrt(n*n - n*n*d)) # n^2 number of measurements\n",
    "\n",
    "# for i in range(n_rows):\n",
    "#     dgr = dgr_range[i]\n",
    "#     R = dgr_func(N,dgr)\n",
    "#     X_ten = gen_orth_tensor (N,R)\n",
    "#     print \"data generated\"\n",
    "#     for j in range(n_cols):\n",
    "#         obv_ratio = obv_range[j]\n",
    "#         result = Parallel(n_jobs=num_cores)(delayed(ten_rand_exp)(X_ten,obv_ratio, exp_id) \n",
    "#                                              for exp_id in range(num_exp))\n",
    "#         succ_rate = 1.0* np.sum(np.asarray(result))/num_exp\n",
    "#         print('rank', R , 'obv_ratio', obv_ratio, 'succ_rate', succ_rate)\n",
    "#         ten_recv_prob[i,j] = succ_rate\n",
    "        \n",
    "# output_data ={'xticks':obv_range, 'yticks':dgr_range, 'values':ten_recv_prob}\n",
    "# pickle.dump( output_data, open( \"result/ten_recv_50.pkl\", \"wb\" ) )"
   ]
  },
  {
   "cell_type": "code",
   "execution_count": 18,
   "metadata": {
    "collapsed": false
   },
   "outputs": [],
   "source": [
    "N = 20\n",
    "R = 1\n",
    "obv_ratio = 0.8\n",
    "X_ten = gen_orth_tensor(N,R)\n",
    "Omega = gen_mask((N,N,N),obv_ratio)\n",
    "X_obv = np.copy(X_ten)\n",
    "X_obv[Omega==0] = 0\n",
    "# succ_thres = 1e-3"
   ]
  },
  {
   "cell_type": "code",
   "execution_count": 19,
   "metadata": {
    "collapsed": false
   },
   "outputs": [
    {
     "name": "stdout",
     "output_type": "stream",
     "text": [
      "tensor completion: 0.000410712368256\n"
     ]
    }
   ],
   "source": [
    "out_ten = tensor_recovery(Omega, X_obv)\n",
    "print 'tensor completion:', eval_completion(out_ten, X_ten, Omega)"
   ]
  },
  {
   "cell_type": "code",
   "execution_count": 20,
   "metadata": {
    "collapsed": false
   },
   "outputs": [
    {
     "name": "stdout",
     "output_type": "stream",
     "text": [
      "tensor unfolding completion: 0.00178641969315\n"
     ]
    }
   ],
   "source": [
    "out_ten_unfold = tensor_recovery_unfold(Omega, X_obv)\n",
    "\n",
    "#out_ten = tensor_recovery(Omega, X_obv)\n",
    "print 'tensor unfolding completion:', eval_completion(out_ten_unfold,X_ten,Omega)\n",
    "#print 'tensor completion:', eval_completion(out_ten, X_ten, Omega)"
   ]
  },
  {
   "cell_type": "code",
   "execution_count": 21,
   "metadata": {
    "collapsed": false
   },
   "outputs": [
    {
     "name": "stdout",
     "output_type": "stream",
     "text": [
      "tensor slice-wise completion: 0.00417579238062\n"
     ]
    }
   ],
   "source": [
    "def tensor_recovery_slice(Omega,X):\n",
    "    shape = X.shape\n",
    "    n_elems = np.prod(shape)\n",
    "    ndim = np.ndim(X)\n",
    "    \n",
    "    X_modes = [np.array(X.shape)]*3 # three sets of tensors\n",
    "    for mode in range(ndim):\n",
    "        perm_order = np.roll(np.arange(ndim),mode)\n",
    "        X_tp = np.transpose(X,perm_order)\n",
    "        Omega_tp =  np.transpose(Omega, perm_order)\n",
    "        X_mode = np.zeros(X_tp.shape)\n",
    "        for i in range(X_tp.shape[-1]):\n",
    "            X_mode[:,:,i]= matrix_recovery(Omega_tp[:,:,i], X_tp[:,:,i])\n",
    "        perm_order_reverse = np.argsort(perm_order)\n",
    "        X_modes[mode] = np.transpose(X_mode, perm_order_reverse) \n",
    "        X_mode = np.copy(X_modes[mode])\n",
    " \n",
    "    X_out = np.mean(np.array(X_modes), axis = 0)#1./3* np.add(np.add(fold(X_out_1, 0, shape), fold(X_out_2, 1, shape) ), fold(X_out_3, 2,shape))\n",
    "    return X_out\n",
    "\n",
    "out_ten_slice= tensor_recovery_slice(Omega, X_obv)\n",
    "print 'tensor slice-wise completion:', eval_completion(out_ten_slice, X_ten, Omega)"
   ]
  },
  {
   "cell_type": "code",
   "execution_count": 22,
   "metadata": {
    "collapsed": false
   },
   "outputs": [
    {
     "name": "stdout",
     "output_type": "stream",
     "text": [
      "matrix mode 0 completion: 0.00313264266851\n",
      "matrix mode 1 completion: 0.00106380311713\n",
      "matrix mode 2 completion: 0.00265654805544\n"
     ]
    }
   ],
   "source": [
    "for mode in range(3):\n",
    "    out_mat_mode = matrix_recovery(unfold(Omega, mode), unfold(X_obv, mode))\n",
    "    print \"matrix mode {} completion:\".format(mode), eval_completion(out_mat_mode,unfold(X_ten,mode),unfold(Omega,mode)  ) "
   ]
  },
  {
   "cell_type": "code",
   "execution_count": 23,
   "metadata": {
    "collapsed": false
   },
   "outputs": [
    {
     "name": "stdout",
     "output_type": "stream",
     "text": [
      "matrix mode 0 completion: 0.00313264268413\n",
      "matrix mode 1 completion: 0.00106380313469\n",
      "matrix mode 2 completion: 0.00265654805544\n"
     ]
    }
   ],
   "source": [
    "X_obv[Omega==0] = np.median(X_obv)\n",
    "\n",
    "for mode in range(3):\n",
    "    out_mat_mode = matrix_recovery(unfold(Omega, mode), unfold(X_obv, mode))\n",
    "    print \"matrix mode {} completion:\".format(mode), eval_completion(out_mat_mode,unfold(X_ten,mode),unfold(Omega,mode)  ) "
   ]
  }
 ],
 "metadata": {
  "kernelspec": {
   "display_name": "Python 2",
   "language": "python",
   "name": "python2"
  },
  "language_info": {
   "codemirror_mode": {
    "name": "ipython",
    "version": 2
   },
   "file_extension": ".py",
   "mimetype": "text/x-python",
   "name": "python",
   "nbconvert_exporter": "python",
   "pygments_lexer": "ipython2",
   "version": "2.7.6"
  }
 },
 "nbformat": 4,
 "nbformat_minor": 1
}
