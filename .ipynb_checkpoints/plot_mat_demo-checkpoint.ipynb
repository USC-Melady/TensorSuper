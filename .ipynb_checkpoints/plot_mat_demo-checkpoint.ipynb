{
 "cells": [
  {
   "cell_type": "code",
   "execution_count": 41,
   "metadata": {
    "collapsed": false
   },
   "outputs": [
    {
     "name": "stdout",
     "output_type": "stream",
     "text": [
      "['0.0', '0.2', '0.5', '0.8', '1.0']\n",
      "['0.1', '0.3', '0.6', '0.8', '1.0']\n"
     ]
    },
    {
     "ename": "TypeError",
     "evalue": "can only concatenate list (not \"NoneType\") to list",
     "output_type": "error",
     "traceback": [
      "\u001b[1;31m---------------------------------------------------------------------------\u001b[0m",
      "\u001b[1;31mTypeError\u001b[0m                                 Traceback (most recent call last)",
      "\u001b[1;32m<ipython-input-41-aa9b66e4a402>\u001b[0m in \u001b[0;36m<module>\u001b[1;34m()\u001b[0m\n\u001b[0;32m     25\u001b[0m \u001b[1;32mif\u001b[0m \u001b[0mlabels\u001b[0m\u001b[1;33m:\u001b[0m\u001b[1;33m\u001b[0m\u001b[0m\n\u001b[0;32m     26\u001b[0m     \u001b[0max\u001b[0m\u001b[1;33m.\u001b[0m\u001b[0mset_xticklabels\u001b[0m\u001b[1;33m(\u001b[0m\u001b[1;33m[\u001b[0m\u001b[1;34m''\u001b[0m\u001b[1;33m]\u001b[0m \u001b[1;33m+\u001b[0m \u001b[0mxticks\u001b[0m\u001b[1;33m)\u001b[0m\u001b[1;33m\u001b[0m\u001b[0m\n\u001b[1;32m---> 27\u001b[1;33m     \u001b[0max\u001b[0m\u001b[1;33m.\u001b[0m\u001b[0mset_yticklabels\u001b[0m\u001b[1;33m(\u001b[0m\u001b[1;33m[\u001b[0m\u001b[1;34m''\u001b[0m\u001b[1;33m]\u001b[0m \u001b[1;33m+\u001b[0m \u001b[0myticks\u001b[0m\u001b[1;33m.\u001b[0m\u001b[0mreverse\u001b[0m\u001b[1;33m(\u001b[0m\u001b[1;33m)\u001b[0m\u001b[1;33m)\u001b[0m\u001b[1;33m\u001b[0m\u001b[0m\n\u001b[0m\u001b[0;32m     28\u001b[0m \u001b[0mplt\u001b[0m\u001b[1;33m.\u001b[0m\u001b[0mxlabel\u001b[0m\u001b[1;33m(\u001b[0m\u001b[1;34m'observation ratio '\u001b[0m\u001b[1;33m+\u001b[0m\u001b[1;34mu'm/n\\u2082'\u001b[0m\u001b[1;33m)\u001b[0m\u001b[1;33m\u001b[0m\u001b[0m\n\u001b[0;32m     29\u001b[0m \u001b[0mplt\u001b[0m\u001b[1;33m.\u001b[0m\u001b[0mylabel\u001b[0m\u001b[1;33m(\u001b[0m\u001b[1;34m'degree of freedom '\u001b[0m\u001b[1;33m+\u001b[0m\u001b[1;34mu'd\\u0072/m'\u001b[0m\u001b[1;33m)\u001b[0m\u001b[1;33m\u001b[0m\u001b[0m\n",
      "\u001b[1;31mTypeError\u001b[0m: can only concatenate list (not \"NoneType\") to list"
     ]
    },
    {
     "data": {
      "image/png": "[encoded data removed]",
      "text/plain": [
       "<matplotlib.figure.Figure at 0x7fcf6fd3fcd0>"
      ]
     },
     "metadata": {},
     "output_type": "display_data"
    }
   ],
   "source": [
    "import numpy as np\n",
    "import cPickle as pickle\n",
    "import matplotlib.pyplot as plt\n",
    "%matplotlib inline \n",
    "\n",
    "rslt = pickle.load( open( \"result/mat_recv_sim.pkl\", \"rb\" ) )\n",
    "\n",
    "cm = rslt['values']\n",
    "xticks = rslt['xticks']\n",
    "xticks = [\"%.1f\" % x for x in xticks]\n",
    "print xticks\n",
    "yticks = rslt['yticks']\n",
    "yticks = [\"%.1f\" % x for x in yticks]\n",
    "print yticks\n",
    "\n",
    "\n",
    "title = \"matrix recovery success probability\"\n",
    "labels = True\n",
    "\n",
    "fig = plt.figure()\n",
    "ax = fig.add_subplot(111)\n",
    "cax = ax.matshow(cm, cmap=plt.cm.gray)\n",
    "plt.title(title)\n",
    "fig.colorbar(cax)\n",
    "if labels:\n",
    "    ax.set_xticklabels([''] + xticks)\n",
    "    ax.set_yticklabels([''] + yticks)\n",
    "plt.xlabel('observation ratio '+u'm/n\\u2082')\n",
    "plt.ylabel('degree of freedom '+u'd\\u0072/m')\n",
    "plt.show()"
   ]
  },
  {
   "cell_type": "code",
   "execution_count": null,
   "metadata": {
    "collapsed": true
   },
   "outputs": [],
   "source": [
    "%matplotlib inline\n",
    "import matplotlib.pyplot as plt\n",
    "import numpy as np\n",
    "\n",
    "\n",
    "def samplemat(dims):\n",
    "    \"\"\"Make a matrix with all zeros and increasing elements on the diagonal\"\"\"\n",
    "    aa = np.zeros(dims)\n",
    "    for i in range(min(dims)):\n",
    "        aa[i, i] = i\n",
    "    return aa\n",
    "\n",
    "# Display 2 matrices of different sizes\n",
    "dimlist = [(12, 12), (15, 35)]\n",
    "for d in dimlist:\n",
    "    plt.matshow(samplemat(d))\n",
    "\n",
    "# Display a random matrix with a specified figure number and a grayscale\n",
    "# colormap\n",
    "plt.matshow(np.random.rand(64, 64), fignum=100, cmap=plt.cm.gray)\n",
    "\n",
    "plt.show()"
   ]
  }
 ],
 "metadata": {
  "kernelspec": {
   "display_name": "Python 2",
   "language": "python",
   "name": "python2"
  },
  "language_info": {
   "codemirror_mode": {
    "name": "ipython",
    "version": 2
   },
   "file_extension": ".py",
   "mimetype": "text/x-python",
   "name": "python",
   "nbconvert_exporter": "python",
   "pygments_lexer": "ipython2",
   "version": "2.7.6"
  }
 },
 "nbformat": 4,
 "nbformat_minor": 1
}
