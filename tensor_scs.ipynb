{
 "cells": [
  {
   "cell_type": "code",
   "execution_count": 1,
   "metadata": {
    "collapsed": true
   },
   "outputs": [],
   "source": [
    "\"\"\"\n",
    "tensor completion solver with split conic solver (SCS)\n",
    "\"\"\"\n",
    "import sys\n",
    "sys.path.append('/afs/cs.stanford.edu/u/yuqirose/cvxpy')\n"
   ]
  },
  {
   "cell_type": "code",
   "execution_count": 3,
   "metadata": {
    "collapsed": false
   },
   "outputs": [
    {
     "name": "stdout",
     "output_type": "stream",
     "text": [
      "[ 1.  1. -1. -1.]\n",
      "[ 0.  0.  1.  1.]\n",
      "  (0, 0)\t-1.0\n",
      "  (1, 1)\t-1.0\n",
      "  (2, 2)\t1.0\n",
      "  (3, 3)\t1.0\n",
      "{'l': 4}\n",
      "----------------------------------------------------------------------------\n",
      "\tSCS v1.2.6 - Splitting Conic Solver\n",
      "\t(c) Brendan O'Donoghue, Stanford University, 2012-2016\n",
      "----------------------------------------------------------------------------\n",
      "Lin-sys: sparse-direct, nnz in A = 4\n",
      "eps = 1.00e-03, alpha = 1.50, max_iters = 2500, normalize = 1, scale = 1.00\n",
      "Variables n = 4, constraints m = 4\n",
      "Cones:\tlinear vars: 4\n",
      "Setup time: 8.09e-04s\n",
      "----------------------------------------------------------------------------\n",
      " Iter | pri res | dua res | rel gap | pri obj | dua obj | kap/tau | time (s)\n",
      "----------------------------------------------------------------------------\n",
      "     0|      inf       inf      -nan      -inf      -inf       inf  9.08e-04 \n",
      "    20| 1.43e-06  1.16e-06  6.41e-07 -2.00e+00 -2.00e+00  1.40e-16  9.74e-04 \n",
      "----------------------------------------------------------------------------\n",
      "Status: Solved\n",
      "Timing: Solve time: 9.86e-04s\n",
      "\tLin-sys: nnz in L factor: 12, avg solve time: 1.53e-07s\n",
      "\tCones: avg projection time: 6.68e-08s\n",
      "----------------------------------------------------------------------------\n",
      "Error metrics:\n",
      "dist(s, K) = 3.4917e-17, dist(y, K*) = 0.0000e+00, s'y/|s||y| = -1.0000e+00\n",
      "|Ax + s - b|_2 / (1 + |b|_2) = 1.4308e-06\n",
      "|A'y + c|_2 / (1 + |c|_2) = 1.1614e-06\n",
      "|c'x + b'y| / (1 + |c'x| + |b'y|) = 6.4114e-07\n",
      "----------------------------------------------------------------------------\n",
      "c'x = -2.0000, -b'y = -2.0000\n",
      "============================================================================\n",
      "{'y': array([ 1.00000174,  1.00000174,  1.00000174,  1.00000174]), 'x': array([ -1.23686887e-06,  -1.23686887e-06,   1.00000211e+00,\n",
      "         1.00000211e+00]), 's': array([ -3.49171422e-17,  -3.49171422e-17,  -3.49171422e-17,\n",
      "        -3.49171422e-17]), 'info': {'status': 'Solved', 'statusVal': 1, 'resPri': 1.4307973443642373e-06, 'resInfeas': nan, 'solveTime': 0.986245, 'relGap': 6.411386943441464e-07, 'iter': 20, 'dobj': -2.000003480437617, 'pobj': -2.000006686137607, 'setupTime': 0.80898, 'resUnbdd': 1.4142118131832866, 'resDual': 1.1613833996525767e-06}}\n"
     ]
    }
   ],
   "source": [
    "\"\"\"\n",
    "reformulate tensor n-rank minimization as a SCS problem\n",
    "\"\"\"\n",
    "import scs \n",
    "from sys import getrefcount\n",
    "from guppy import hpy\n",
    "\n",
    "import numpy as np\n",
    "from scipy import sparse\n",
    "ij = np.array([[0,1,2,3],[0,1,2,3]])\n",
    "A = sparse.csc_matrix(([-1.,-1.,1.,1.], ij), (4,4))\n",
    "b = np.array([0.,0.,1,1])\n",
    "c = np.array([1.,1.,-1,-1])\n",
    "cone = {'l': 4}\n",
    "\n",
    "print c\n",
    "print b\n",
    "print A\n",
    "print cone\n",
    "data = {'A': A, 'b':b, 'c':c}\n",
    "\n",
    "sol = scs.solve(data, cone, use_indirect = False)\n",
    "print sol"
   ]
  },
  {
   "cell_type": "code",
   "execution_count": null,
   "metadata": {
    "collapsed": true
   },
   "outputs": [],
   "source": [
    "data  = "
   ]
  }
 ],
 "metadata": {
  "kernelspec": {
   "display_name": "Python 2",
   "language": "python",
   "name": "python2"
  },
  "language_info": {
   "codemirror_mode": {
    "name": "ipython",
    "version": 2
   },
   "file_extension": ".py",
   "mimetype": "text/x-python",
   "name": "python",
   "nbconvert_exporter": "python",
   "pygments_lexer": "ipython2",
   "version": "2.7.6"
  }
 },
 "nbformat": 4,
 "nbformat_minor": 1
}
