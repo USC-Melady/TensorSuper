{
 "cells": [
  {
   "cell_type": "code",
   "execution_count": null,
   "metadata": {
    "collapsed": true
   },
   "outputs": [],
   "source": [
    "from cvxpy import *\n",
    "import numpy as np\n",
    "from math import sqrt\n",
    "def unfold(X,n):\n",
    "    ''' mode-n unfolding of tensor X\n",
    "    Args: \n",
    "        X: input tensor\n",
    "        n: targeted mode\n",
    "    Returns:\n",
    "        matricized version of X\n",
    "    '''\n",
    "    shape = np.shape(X)\n",
    "    ndim = np.ndim(X)\n",
    "    perm_order = np.roll(np.arange(ndim),n-1)\n",
    "    X_n= np.reshape(np.transpose(X, perm_order), [shape[n-1],-1])\n",
    "    return X_n\n",
    "\n",
    "def norm_tensor(X, p=2):\n",
    "    '''\n",
    "    Wrapper function for tensor norm\n",
    "    '''\n",
    "    if p == 'nuc_upper':\n",
    "        # tensor nuclear norm upper bound [FRIEDLAND && Lim 2014]\n",
    "        expr_list = []\n",
    "        X_shape = np.asarray(np.shape(X))\n",
    "        for n in range(X.ndim):\n",
    "            X_n = unfold(X, n)\n",
    "            mask = np.ones(len(X_shape), dtype=bool)\n",
    "            mask[n] = False\n",
    "            print X_shape[mask]\n",
    "            factor = sqrt(min(X_shape[mask]))\n",
    "            norm_X_n = norm(X_n,'nuc')\n",
    "            norm_X_n = norm_X_n * factor\n",
    "            expr_list = expr_list + [norm_X_n]\n",
    "        return min_elemwise(*expr_list)\n",
    "        \n",
    "    elif p == 'nuc_lower':\n",
    "        # tensor nuclear norm lower bound \n",
    "        expr_list = []\n",
    "        for n in range(X.ndim):\n",
    "            X_n = unfold(X, n)\n",
    "            expr_list = expr_list + [norm_X_n]\n",
    "        return max_elemwise(expr_list)"
   ]
  },
  {
   "cell_type": "code",
   "execution_count": null,
   "metadata": {
    "collapsed": true
   },
   "outputs": [],
   "source": [
    "n1 = 20;\n",
    "n2 = 30;\n",
    "n3 = 10;\n",
    "X = np.random.random((n1,n2,n3))\n",
    "X_opt = Variable(n1, n2, n3)\n",
    "Omega = np.random.choice([0,1], size = ((n1,n2,n3)), p = [0.8,0.2])\n",
    "\n",
    "obj = Minimize(norm_tensor(X, 'nuc_upper'))\n",
    "constraints = [mul_elemwise(Omega, X_opt) == mul_elemwise(Omega, X)]\n",
    "prob = Problem(obj, constraints)\n",
    "# Use SCS to solve the problem.\n",
    "prob.solve(verbose=True, solver=SCS)"
   ]
  }
 ],
 "metadata": {
  "kernelspec": {
   "display_name": "Python 2",
   "language": "python",
   "name": "python2"
  },
  "language_info": {
   "codemirror_mode": {
    "name": "ipython",
    "version": 2
   },
   "file_extension": ".py",
   "mimetype": "text/x-python",
   "name": "python",
   "nbconvert_exporter": "python",
   "pygments_lexer": "ipython2",
   "version": "2.7.6"
  }
 },
 "nbformat": 4,
 "nbformat_minor": 1
}
