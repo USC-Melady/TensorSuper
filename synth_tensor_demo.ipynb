{
 "cells": [
  {
   "cell_type": "code",
   "execution_count": null,
   "metadata": {
    "collapsed": true
   },
   "outputs": [],
   "source": [
    "\"\"\"\n",
    "tensor completion solver with split conic solver (SCS)\n",
    "\"\"\"\n",
    "from math_utils import *\n",
    "import numpy as np\n",
    "from scipy import linalg\n",
    "from sktensor import ktensor\n",
    "import matplotlib.pyplot as plt\n",
    "import cPickle as pickle\n",
    "import sys\n",
    "sys.path.append('/afs/cs.stanford.edu/u/yuqirose/cvxpy')\n",
    "import scs \n",
    "from sys import getrefcount\n",
    "from guppy import hpy\n",
    "from scipy import sparse"
   ]
  },
  {
   "cell_type": "code",
   "execution_count": null,
   "metadata": {
    "collapsed": true
   },
   "outputs": [],
   "source": [
    "def gen_mask(shape,obv_ratio):\n",
    "    '''\n",
    "    Return a mask matrix, 1 for observed, 0 for missing. \n",
    "    Args:\n",
    "        obv_ratio: (0,1) observation ratio\n",
    "        N: size of the mask\n",
    "    '''\n",
    "    np.random.seed()\n",
    "    obv_idx = np.random.choice([0, 1], size=shape, p=[1.0-obv_ratio, obv_ratio])\n",
    "    Omega = np.reshape(obv_idx, shape)\n",
    "    return Omega "
   ]
  },
  {
   "cell_type": "code",
   "execution_count": null,
   "metadata": {
    "collapsed": true
   },
   "outputs": [],
   "source": [
    "def gen_orth_tensor(N,R):\n",
    "    # all orthogonal cases\n",
    "    U = np.random.random((N, R))\n",
    "    U_orth = linalg.orth(U)\n",
    "\n",
    "    V = np.random.random((N, R))\n",
    "    V_orth = linalg.orth(V)\n",
    "\n",
    "    W = np.random.random((N, R))\n",
    "    W_orth = linalg.orth(W)\n",
    "\n",
    "    Lambda = np.random.random((R,))\n",
    "\n",
    "    X = ktensor([U_orth, V_orth, W_orth], lmbda=Lambda)\n",
    "    X_ten = np.asarray(X.totensor())\n",
    "\n",
    "    return X_ten"
   ]
  },
  {
   "cell_type": "code",
   "execution_count": null,
   "metadata": {
    "collapsed": false
   },
   "outputs": [],
   "source": [
    "\"\"\"\n",
    "reformulate tensor n-rank minimization as a SCS problem\n",
    "\"\"\"\n",
    "ij = np.array([[0,1,2,3],[0,1,2,3]])\n",
    "A = sparse.csc_matrix(([-1.,-1.,1.,1.], ij), (4,4)) \n",
    "b = np.array([0.,0.,1,1])\n",
    "c = np.array([1.,1.,-1,-1])\n",
    "cone = {'l': 4}\n",
    "\n",
    "print c\n",
    "print b\n",
    "print A\n",
    "print cone\n",
    "data = {'A': A, 'b':b, 'c':c}\n",
    "\n",
    "sol = scs.solve(data, cone, use_indirect = False)\n",
    "print sol"
   ]
  },
  {
   "cell_type": "code",
   "execution_count": 39,
   "metadata": {
    "collapsed": false
   },
   "outputs": [],
   "source": [
    "import sys\n",
    "from numpy import linalg as LA\n",
    "sys.path.append('/afs/cs.stanford.edu/u/yuqirose/cvxpy')\n",
    "from cvxpy import *\n",
    "from math_utils import *\n",
    "\n",
    "\n",
    "def tensor_recovery(Omega,X, succ_thres):\n",
    "    shape = X.shape\n",
    "    n_elems = np.prod(shape)\n",
    "    X_opt_1 = Variable(shape[0], n_elems / shape[0])\n",
    "    X_opt_2 = Variable(shape[1], n_elems / shape[1])\n",
    "    X_opt_3 = Variable(shape[2], n_elems / shape[2])\n",
    "\n",
    "    # mask\n",
    "\n",
    "    Omega_1 = unfold(Omega,0)\n",
    "    Omega_2 = unfold(Omega,1)\n",
    "    Omega_3 = unfold(Omega,2)\n",
    "\n",
    "    # measurements\n",
    "    X_1 = unfold(X,0)\n",
    "    X_2 = unfold(X,1)\n",
    "    X_3 = unfold(X,2)\n",
    "\n",
    "    obj = Minimize(norm(X_opt_1, \"nuc\")+ norm(X_opt_2, \"nuc\") + norm(X_opt_3, \"nuc\") ) # tensor norm as algebraic mean of matrix norm\n",
    "    constraints = [mul_elemwise(Omega_1, X_opt_1) == mul_elemwise(Omega_1, X_1),\n",
    "                  mul_elemwise(Omega_2, X_opt_2) == mul_elemwise(Omega_2, X_2),\n",
    "                  mul_elemwise(Omega_3, X_opt_3) == mul_elemwise(Omega_3, X_3)]\n",
    "    #               vec(X_opt_1)== vec((vstack(X_opt_2[:,0:shape[0]],X_opt_2[:,shape[0]:2*shape[0]],\n",
    "    #                                          X_opt_2[:,2*shape[0]:3*shape[0]], X_opt_2[:,3*shape[0]:4*shape[0]])).T)] # vector format of the variables are the same\n",
    "\n",
    "    prob = Problem(obj, constraints)\n",
    "    # Use SCS to solve the problem.\n",
    "    prob.solve(verbose=True, solver=SCS) \n",
    "    X_out_1  = np.asarray(X_opt_1.value)\n",
    "    X_out_2 = np.asarray(X_opt_2.value)\n",
    "    X_out_3 = np.asarray(X_opt_3.value)\n",
    "\n",
    "    X_out = fold(X_out_1,0,shape)#1./3* np.add(np.add(fold(X_out_1, 0, shape), fold(X_out_2, 1, shape) ), fold(X_out_3, 2,shape))\n",
    "    err = tensor_norm(X_out - X, 'fro')/ tensor_norm(X, 'fro')\n",
    "    print 'recovery err:', err\n",
    "    if  err < succ_thres:\n",
    "        return True\n",
    "    else:\n",
    "        return False"
   ]
  },
  {
   "cell_type": "code",
   "execution_count": null,
   "metadata": {
    "collapsed": true
   },
   "outputs": [],
   "source": [
    "# Setting for the experiments   \n",
    "n_rows = 5;\n",
    "n_cols = 5;\n",
    "num_exp = 5\n",
    "N = 50; # size\n",
    "max_rank = N\n",
    "\n",
    "# obv_ratio = 0.8;\n",
    "# succ_thres = 1e-3;\n",
    "ten_recv_prob = np.zeros((n_rows, n_cols))\n",
    "\n",
    "dgr_range = np.linspace(0.1, 1, n_rows)\n",
    "obv_range = np.linspace(0,1,n_cols)   "
   ]
  },
  {
   "cell_type": "code",
   "execution_count": null,
   "metadata": {
    "collapsed": false
   },
   "outputs": [],
   "source": [
    "from joblib import Parallel, delayed\n",
    "import multiprocessing\n",
    "\n",
    "inputs = range(10) \n",
    "def ten_rand_exp(X, obv_ratio, exp_id):\n",
    "    succ_thres = 1.0e-3\n",
    "    N = len(X)\n",
    "    Omega = gen_mask((N,N,N),obv_ratio)\n",
    "    if tensor_recovery(Omega, X, succ_thres):\n",
    "        return 1\n",
    "    else:\n",
    "        return 0\n",
    "   \n",
    "    \n",
    "num_cores = multiprocessing.cpu_count()\n",
    "\"\"\"degree of freedom funciton \"\"\"\n",
    "dgr_func = lambda n, d: np.ceil(n -  np.sqrt(n*n - n*n*d)) # n^2 number of measurements\n",
    "\n",
    "for i in range(n_rows):\n",
    "    dgr = dgr_range[i]\n",
    "    R = dgr_func(N,dgr)\n",
    "    X_ten = gen_orth_tensor (N,R)\n",
    "    print \"data generated\"\n",
    "    for j in range(n_cols):\n",
    "        obv_ratio = obv_range[j]\n",
    "        result = Parallel(n_jobs=num_cores)(delayed(ten_rand_exp)(X_ten,obv_ratio, exp_id) \n",
    "                                             for exp_id in range(num_exp))\n",
    "        succ_rate = 1.0* np.sum(np.asarray(result))/num_exp\n",
    "        print('rank', R , 'obv_ratio', obv_ratio, 'succ_rate', succ_rate)\n",
    "        ten_recv_prob[i,j] = succ_rate\n",
    "        \n",
    "output_data ={'xticks':obv_range, 'yticks':dgr_range, 'values':ten_recv_prob}\n",
    "pickle.dump( output_data, open( \"result/ten_recv_50.pkl\", \"wb\" ) )"
   ]
  },
  {
   "cell_type": "code",
   "execution_count": 40,
   "metadata": {
    "collapsed": false
   },
   "outputs": [
    {
     "name": "stdout",
     "output_type": "stream",
     "text": [
      "----------------------------------------------------------------------------\n",
      "\tSCS v1.2.6 - Splitting Conic Solver\n",
      "\t(c) Brendan O'Donoghue, Stanford University, 2012-2016\n",
      "----------------------------------------------------------------------------\n",
      "Lin-sys: sparse-indirect, nnz in A = 860298, CG tol ~ 1/iter^(2.00)\n",
      "eps = 1.00e-03, alpha = 1.50, max_iters = 2500, normalize = 1, scale = 1.00\n",
      "Variables n = 553200, constraints m = 577200\n",
      "Cones:\tprimal zero / dual free vars: 311970\n",
      "\tsd vars: 265230, sd blks: 3\n",
      "Setup time: 5.88e-02s\n",
      "----------------------------------------------------------------------------\n",
      " Iter | pri res | dua res | rel gap | pri obj | dua obj | kap/tau | time (s)\n",
      "----------------------------------------------------------------------------\n",
      "     0|      inf       inf      -nan      -inf       inf       inf  4.16e-01 \n",
      "   100| 1.72e-03  1.72e-03  8.49e-04  4.21e+02  4.21e+02  1.51e-13  9.98e+01 \n",
      "   120| 9.54e-04  4.82e-04  2.05e-04  4.23e+02  4.23e+02  1.51e-13  1.18e+02 \n",
      "----------------------------------------------------------------------------\n",
      "Status: Solved\n",
      "Timing: Solve time: 1.18e+02s\n",
      "\tLin-sys: avg # CG iterations: 4.97, avg solve time: 1.05e-01s\n",
      "\tCones: avg projection time: 8.50e-01s\n",
      "----------------------------------------------------------------------------\n",
      "Error metrics:\n",
      "dist(s, K) = 3.0857e-08, dist(y, K*) = 9.7010e-09, s'y/|s||y| = 5.3397e-13\n",
      "|Ax + s - b|_2 / (1 + |b|_2) = 9.5355e-04\n",
      "|A'y + c|_2 / (1 + |c|_2) = 4.8232e-04\n",
      "|c'x + b'y| / (1 + |c'x| + |b'y|) = 2.0453e-04\n",
      "----------------------------------------------------------------------------\n",
      "c'x = 423.0284, -b'y = 422.8552\n",
      "============================================================================\n",
      "recovery err: 0.239649775934\n"
     ]
    }
   ],
   "source": [
    "N = 20\n",
    "R = 1\n",
    "obv_ratio = 0.8\n",
    "X_ten = np.random.rand(N,N,N)\n",
    "Omega = gen_mask((N,N,N),obv_ratio)\n",
    "succ_thres = 1e-3\n",
    "rslt = tensor_recovery(Omega, X_ten, succ_thres)"
   ]
  }
 ],
 "metadata": {
  "kernelspec": {
   "display_name": "Python 2",
   "language": "python",
   "name": "python2"
  },
  "language_info": {
   "codemirror_mode": {
    "name": "ipython",
    "version": 2
   },
   "file_extension": ".py",
   "mimetype": "text/x-python",
   "name": "python",
   "nbconvert_exporter": "python",
   "pygments_lexer": "ipython2",
   "version": "2.7.6"
  }
 },
 "nbformat": 4,
 "nbformat_minor": 1
}
